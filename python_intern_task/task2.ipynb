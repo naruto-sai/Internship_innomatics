{
 "cells": [
  {
   "cell_type": "code",
   "execution_count": null,
   "id": "d4966cff",
   "metadata": {},
   "outputs": [],
   "source": [
    "class Solution:\n",
    "    def defangIPaddr(self, address: str) -> str:\n",
    "        return '[.]'.join(address.split('.'))"
   ]
  },
  {
   "cell_type": "code",
   "execution_count": null,
   "id": "8007f7e4",
   "metadata": {},
   "outputs": [],
   "source": [
    "class Solution:\n",
    "    def subtractProductAndSum(self, n: int) -> int:\n",
    "        prod=1\n",
    "        sum_=0\n",
    "        while n>0:\n",
    "            prod*=n%10\n",
    "            sum_+=n%10\n",
    "            n=n//10\n",
    "        return prod-sum_"
   ]
  },
  {
   "cell_type": "code",
   "execution_count": null,
   "id": "45b1983d",
   "metadata": {},
   "outputs": [],
   "source": [
    "class Solution:\n",
    "    def findNumbers(self, nums: List[int]) -> int:\n",
    "        count=0\n",
    "        for i in nums:\n",
    "            if(len(str(i))%2==0):\n",
    "                count+=1 \n",
    "        return count"
   ]
  },
  {
   "cell_type": "code",
   "execution_count": null,
   "id": "4278a794",
   "metadata": {},
   "outputs": [],
   "source": [
    "class Solution:\n",
    "    def smallerNumbersThanCurrent(self, nums: List[int]) -> List[int]:\n",
    "        small_count=[sum(i > j for j in nums) for i in nums]\n",
    "        return small_count"
   ]
  },
  {
   "cell_type": "code",
   "execution_count": null,
   "id": "07be2c74",
   "metadata": {},
   "outputs": [],
   "source": [
    "class Solution:\n",
    "    def xorOperation(self, n: int, start: int) -> int:\n",
    "        nums=[start + 2 * i for i in range(n)]\n",
    "        xor=nums[0]\n",
    "        for i in range(1,n):\n",
    "            xor=xor^nums[i]\n",
    "        return xor"
   ]
  },
  {
   "cell_type": "code",
   "execution_count": null,
   "id": "bf5d5812",
   "metadata": {},
   "outputs": [],
   "source": [
    "class Solution:\n",
    "    def numIdenticalPairs(self, nums: List[int]) -> int:\n",
    "        count=0\n",
    "        for i in range(len(nums)-1):\n",
    "            for j in range(i+1,len(nums)):\n",
    "                if nums[i]==nums[j]:\n",
    "                    count+=1\n",
    "        return count\n",
    "    \n",
    "#[(i,j) for i in range(len(nums)-1) for j in range(i+1,len(nums)) if nums[i]==nums[j] ]"
   ]
  },
  {
   "cell_type": "code",
   "execution_count": null,
   "id": "9ea0bfb8",
   "metadata": {},
   "outputs": [],
   "source": []
  }
 ],
 "metadata": {
  "kernelspec": {
   "display_name": "Python 3 (ipykernel)",
   "language": "python",
   "name": "python3"
  },
  "language_info": {
   "codemirror_mode": {
    "name": "ipython",
    "version": 3
   },
   "file_extension": ".py",
   "mimetype": "text/x-python",
   "name": "python",
   "nbconvert_exporter": "python",
   "pygments_lexer": "ipython3",
   "version": "3.9.13"
  }
 },
 "nbformat": 4,
 "nbformat_minor": 5
}
