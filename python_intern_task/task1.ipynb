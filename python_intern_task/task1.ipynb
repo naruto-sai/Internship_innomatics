{
 "cells": [
  {
   "cell_type": "code",
   "execution_count": null,
   "id": "6bc8b848",
   "metadata": {},
   "outputs": [],
   "source": [
    "class Solution:\n",
    "    def runningSum(self, nums: List[int]) -> List[int]:\n",
    "        lst=[nums[0]]\n",
    "        for i in range(len(nums)-1):\n",
    "            lst.append(lst[i]+nums[i+1])\n",
    "        return lst"
   ]
  },
  {
   "cell_type": "code",
   "execution_count": null,
   "id": "42c238a6",
   "metadata": {},
   "outputs": [],
   "source": [
    "class Solution:\n",
    "    def shuffle(self, nums: List[int], n: int) -> List[int]:\n",
    "        return [num for pair in [[nums[i], nums[n+i]] for i in range(n)] for num in pair]"
   ]
  },
  {
   "cell_type": "code",
   "execution_count": null,
   "id": "f6af8baa",
   "metadata": {},
   "outputs": [],
   "source": [
    "class Solution:\n",
    "    def kidsWithCandies(self, candies: List[int], extraCandies: int) -> List[bool]:\n",
    "        great=candies[0]\n",
    "        for i in range(1,len(candies)):\n",
    "            if(candies[i]>great):\n",
    "                great=candies[i]\n",
    "        return [candies[i]+extraCandies>=great for i in range(len(candies))]"
   ]
  }
 ],
 "metadata": {
  "kernelspec": {
   "display_name": "Python 3 (ipykernel)",
   "language": "python",
   "name": "python3"
  },
  "language_info": {
   "codemirror_mode": {
    "name": "ipython",
    "version": 3
   },
   "file_extension": ".py",
   "mimetype": "text/x-python",
   "name": "python",
   "nbconvert_exporter": "python",
   "pygments_lexer": "ipython3",
   "version": "3.9.13"
  }
 },
 "nbformat": 4,
 "nbformat_minor": 5
}
