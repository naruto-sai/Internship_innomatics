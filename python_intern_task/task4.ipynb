{
 "cells": [
  {
   "cell_type": "code",
   "execution_count": null,
   "id": "e28123c9",
   "metadata": {},
   "outputs": [],
   "source": [
    "class Solution:\n",
    "    def sortByBits(self, arr: List[int]) -> List[int]:\n",
    "\n",
    "        return [i for _,i in sorted(zip([bin(i)[2:].count('1') for i in arr],arr))]"
   ]
  },
  {
   "cell_type": "code",
   "execution_count": null,
   "id": "75f9552e",
   "metadata": {},
   "outputs": [],
   "source": [
    "class Solution:\n",
    "    def singleNumber(self, nums: List[int]) -> int:\n",
    "        nums=sorted(nums)\n",
    "        return [i for i in nums if nums.count(i)==1][0]"
   ]
  },
  {
   "cell_type": "code",
   "execution_count": null,
   "id": "6083b921",
   "metadata": {},
   "outputs": [],
   "source": [
    "class Solution:\n",
    "    def singleNumber(self, nums: List[int]) -> List[int]:\n",
    "        twice=[]\n",
    "        for i in set(nums):\n",
    "            if len(twice)<2:\n",
    "                if(i in nums):\n",
    "                    nums.remove(i)\n",
    "                    if(i not in nums):\n",
    "                        twice.append(i)\n",
    "        return twice"
   ]
  },
  {
   "cell_type": "code",
   "execution_count": null,
   "id": "b5787b63",
   "metadata": {},
   "outputs": [],
   "source": [
    "class Solution:\n",
    "    def subsets(self, nums: List[int]) -> List[List[int]]:\n",
    "        subset=[[]]\n",
    "        for i in nums:\n",
    "            subset+= [j + [i] for j in subset]\n",
    "        return subset"
   ]
  }
 ],
 "metadata": {
  "kernelspec": {
   "display_name": "Python 3 (ipykernel)",
   "language": "python",
   "name": "python3"
  },
  "language_info": {
   "codemirror_mode": {
    "name": "ipython",
    "version": 3
   },
   "file_extension": ".py",
   "mimetype": "text/x-python",
   "name": "python",
   "nbconvert_exporter": "python",
   "pygments_lexer": "ipython3",
   "version": "3.9.13"
  }
 },
 "nbformat": 4,
 "nbformat_minor": 5
}
