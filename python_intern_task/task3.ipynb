{
 "cells": [
  {
   "cell_type": "code",
   "execution_count": null,
   "id": "dc4d729d",
   "metadata": {},
   "outputs": [],
   "source": [
    "class Solution:\n",
    "    def numberOfSteps(self, num: int) -> int:\n",
    "        count=0\n",
    "        while num>0:\n",
    "            if(num%2==0):\n",
    "                num=num/2\n",
    "            else:\n",
    "                num-=1\n",
    "            count+=1\n",
    "        return count"
   ]
  },
  {
   "cell_type": "code",
   "execution_count": null,
   "id": "2dbfec2d",
   "metadata": {},
   "outputs": [],
   "source": [
    "class Solution:\n",
    "    def numTeams(self, rating: List[int]) -> int:\n",
    "        n = len(rating)\n",
    "        count = 0\n",
    "\n",
    "        less = [0] * n\n",
    "        more = [0] * n\n",
    "\n",
    "        for i in range(n):\n",
    "            for j in range(i+1, n):\n",
    "                if rating[j] > rating[i]:\n",
    "                    more[i] += 1\n",
    "                else:\n",
    "                    less[i] += 1\n",
    "\n",
    "        for i in range(n):\n",
    "            for j in range(i+1, n):\n",
    "                if rating[j] > rating[i]:\n",
    "                    count += more[j]\n",
    "                else:\n",
    "                    count += less[j]\n",
    "        return count"
   ]
  },
  {
   "cell_type": "code",
   "execution_count": null,
   "id": "8d5a5d04",
   "metadata": {},
   "outputs": [],
   "source": [
    "class Solution:\n",
    "    def busyStudent(self, startTime: List[int], endTime: List[int], queryTime: int) -> int:\n",
    "        count=0\n",
    "        for i in range(len(startTime)):\n",
    "            if(startTime[i]<=queryTime<=endTime[i]):\n",
    "                count+=1\n",
    "        return count"
   ]
  },
  {
   "cell_type": "code",
   "execution_count": null,
   "id": "a5e30f7d",
   "metadata": {},
   "outputs": [],
   "source": [
    "class Solution:\n",
    "    def maxProduct(self, nums: List[int]) -> int:\n",
    "        nums=sorted(nums)\n",
    "        return (nums[-1]-1)*(nums[-2]-1)"
   ]
  },
  {
   "cell_type": "code",
   "execution_count": null,
   "id": "60aaa451",
   "metadata": {},
   "outputs": [],
   "source": [
    "class Solution:\n",
    "    def countBits(self, n: int) -> List[int]:\n",
    "        return [len(bin(i)[2:].replace('0','')) for i in range(n+1)]\n",
    "\n",
    "# class Solution:\n",
    "#     def countBits(self, n: int) -> List[int]:\n",
    "#         return [bin(i)[2:].count('1') for i in range(n+1)]"
   ]
  }
 ],
 "metadata": {
  "kernelspec": {
   "display_name": "Python 3 (ipykernel)",
   "language": "python",
   "name": "python3"
  },
  "language_info": {
   "codemirror_mode": {
    "name": "ipython",
    "version": 3
   },
   "file_extension": ".py",
   "mimetype": "text/x-python",
   "name": "python",
   "nbconvert_exporter": "python",
   "pygments_lexer": "ipython3",
   "version": "3.9.13"
  }
 },
 "nbformat": 4,
 "nbformat_minor": 5
}
