{
 "cells": [
  {
   "cell_type": "code",
   "execution_count": null,
   "id": "ba9d5ec9",
   "metadata": {},
   "outputs": [],
   "source": [
    "class Solution:\n",
    "    def singleNumber(self, nums: List[int]) -> List[int]:\n",
    "        twice=[]\n",
    "        for i in set(nums):\n",
    "            if len(twice)<2:\n",
    "                if(i in nums):\n",
    "                    nums.remove(i)\n",
    "                    if(i not in nums):\n",
    "                        twice.append(i)\n",
    "        return twice"
   ]
  }
 ],
 "metadata": {
  "kernelspec": {
   "display_name": "Python 3 (ipykernel)",
   "language": "python",
   "name": "python3"
  },
  "language_info": {
   "codemirror_mode": {
    "name": "ipython",
    "version": 3
   },
   "file_extension": ".py",
   "mimetype": "text/x-python",
   "name": "python",
   "nbconvert_exporter": "python",
   "pygments_lexer": "ipython3",
   "version": "3.9.13"
  }
 },
 "nbformat": 4,
 "nbformat_minor": 5
}
