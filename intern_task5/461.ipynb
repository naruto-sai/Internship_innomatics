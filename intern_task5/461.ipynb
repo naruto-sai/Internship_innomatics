{
 "cells": [
  {
   "cell_type": "code",
   "execution_count": null,
   "id": "1db052b6",
   "metadata": {},
   "outputs": [],
   "source": [
    "class Solution:\n",
    "    def hammingDistance(self, x: int, y: int) -> int:\n",
    "        x_bin,y_bin=bin(x)[2:],bin(y)[2:]\n",
    "        if len(x_bin) < len(y_bin):\n",
    "                x_bin = '0'*(len(y_bin)-len(x_bin)) + x_bin\n",
    "        else:\n",
    "            y_bin = '0'*(len(x_bin)-len(y_bin)) + y_bin\n",
    "        count=0\n",
    "        for i,j in zip(x_bin,y_bin):\n",
    "            if i!=j:\n",
    "                count+=1\n",
    "        return count"
   ]
  }
 ],
 "metadata": {
  "kernelspec": {
   "display_name": "Python 3 (ipykernel)",
   "language": "python",
   "name": "python3"
  },
  "language_info": {
   "codemirror_mode": {
    "name": "ipython",
    "version": 3
   },
   "file_extension": ".py",
   "mimetype": "text/x-python",
   "name": "python",
   "nbconvert_exporter": "python",
   "pygments_lexer": "ipython3",
   "version": "3.9.13"
  }
 },
 "nbformat": 4,
 "nbformat_minor": 5
}
