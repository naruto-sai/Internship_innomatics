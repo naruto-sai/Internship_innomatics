{
 "cells": [
  {
   "cell_type": "code",
   "execution_count": null,
   "id": "21b4da32",
   "metadata": {},
   "outputs": [],
   "source": [
    "class Solution:\n",
    "    def subtractProductAndSum(self, n: int) -> int:\n",
    "        prod=1\n",
    "        sum_=0\n",
    "        while n>0:\n",
    "            prod*=n%10\n",
    "            sum_+=n%10\n",
    "            n=n//10\n",
    "        return prod-sum_"
   ]
  }
 ],
 "metadata": {
  "kernelspec": {
   "display_name": "Python 3 (ipykernel)",
   "language": "python",
   "name": "python3"
  },
  "language_info": {
   "codemirror_mode": {
    "name": "ipython",
    "version": 3
   },
   "file_extension": ".py",
   "mimetype": "text/x-python",
   "name": "python",
   "nbconvert_exporter": "python",
   "pygments_lexer": "ipython3",
   "version": "3.9.13"
  }
 },
 "nbformat": 4,
 "nbformat_minor": 5
}
