{
 "cells": [
  {
   "cell_type": "code",
   "execution_count": null,
   "id": "5d3cfb55",
   "metadata": {},
   "outputs": [],
   "source": [
    "class Solution:\n",
    "    def kidsWithCandies(self, candies: List[int], extraCandies: int) -> List[bool]:\n",
    "        great=candies[0]\n",
    "        for i in range(1,len(candies)):\n",
    "            if(candies[i]>great):\n",
    "                great=candies[i]\n",
    "        return [candies[i]+extraCandies>=great for i in range(len(candies))]"
   ]
  }
 ],
 "metadata": {
  "kernelspec": {
   "display_name": "Python 3 (ipykernel)",
   "language": "python",
   "name": "python3"
  },
  "language_info": {
   "codemirror_mode": {
    "name": "ipython",
    "version": 3
   },
   "file_extension": ".py",
   "mimetype": "text/x-python",
   "name": "python",
   "nbconvert_exporter": "python",
   "pygments_lexer": "ipython3",
   "version": "3.9.13"
  }
 },
 "nbformat": 4,
 "nbformat_minor": 5
}
